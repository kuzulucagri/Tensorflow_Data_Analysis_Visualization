{
 "cells": [
  {
   "cell_type": "markdown",
   "metadata": {},
   "source": [
    "# Import library"
   ]
  },
  {
   "cell_type": "code",
   "execution_count": null,
   "metadata": {},
   "outputs": [],
   "source": [
    "import pandas as pd"
   ]
  },
  {
   "cell_type": "markdown",
   "metadata": {},
   "source": [
    "# Read excel tables from same file"
   ]
  },
  {
   "cell_type": "code",
   "execution_count": 11,
   "metadata": {},
   "outputs": [],
   "source": [
    "dataFrame = pd.read_excel(\"bisiklet_fiyatlari.xlsx\")"
   ]
  },
  {
   "cell_type": "code",
   "execution_count": 12,
   "metadata": {},
   "outputs": [
    {
     "data": {
      "text/html": [
       "<div>\n",
       "<style scoped>\n",
       "    .dataframe tbody tr th:only-of-type {\n",
       "        vertical-align: middle;\n",
       "    }\n",
       "\n",
       "    .dataframe tbody tr th {\n",
       "        vertical-align: top;\n",
       "    }\n",
       "\n",
       "    .dataframe thead th {\n",
       "        text-align: right;\n",
       "    }\n",
       "</style>\n",
       "<table border=\"1\" class=\"dataframe\">\n",
       "  <thead>\n",
       "    <tr style=\"text-align: right;\">\n",
       "      <th></th>\n",
       "      <th>Fiyat</th>\n",
       "      <th>BisikletOzellik1</th>\n",
       "      <th>BisikletOzellik2</th>\n",
       "    </tr>\n",
       "  </thead>\n",
       "  <tbody>\n",
       "    <tr>\n",
       "      <th>0</th>\n",
       "      <td>807.673876</td>\n",
       "      <td>1749.628226</td>\n",
       "      <td>1749.590668</td>\n",
       "    </tr>\n",
       "    <tr>\n",
       "      <th>1</th>\n",
       "      <td>959.227520</td>\n",
       "      <td>1748.007826</td>\n",
       "      <td>1751.824206</td>\n",
       "    </tr>\n",
       "    <tr>\n",
       "      <th>2</th>\n",
       "      <td>718.020033</td>\n",
       "      <td>1750.122967</td>\n",
       "      <td>1747.977026</td>\n",
       "    </tr>\n",
       "    <tr>\n",
       "      <th>3</th>\n",
       "      <td>945.668885</td>\n",
       "      <td>1749.916440</td>\n",
       "      <td>1750.771646</td>\n",
       "    </tr>\n",
       "    <tr>\n",
       "      <th>4</th>\n",
       "      <td>955.542968</td>\n",
       "      <td>1750.780519</td>\n",
       "      <td>1750.592430</td>\n",
       "    </tr>\n",
       "    <tr>\n",
       "      <th>...</th>\n",
       "      <td>...</td>\n",
       "      <td>...</td>\n",
       "      <td>...</td>\n",
       "    </tr>\n",
       "    <tr>\n",
       "      <th>995</th>\n",
       "      <td>833.920637</td>\n",
       "      <td>1750.033229</td>\n",
       "      <td>1749.427281</td>\n",
       "    </tr>\n",
       "    <tr>\n",
       "      <th>996</th>\n",
       "      <td>800.298076</td>\n",
       "      <td>1747.996913</td>\n",
       "      <td>1750.035046</td>\n",
       "    </tr>\n",
       "    <tr>\n",
       "      <th>997</th>\n",
       "      <td>799.261737</td>\n",
       "      <td>1752.540381</td>\n",
       "      <td>1747.983310</td>\n",
       "    </tr>\n",
       "    <tr>\n",
       "      <th>998</th>\n",
       "      <td>705.802257</td>\n",
       "      <td>1751.349290</td>\n",
       "      <td>1747.484989</td>\n",
       "    </tr>\n",
       "    <tr>\n",
       "      <th>999</th>\n",
       "      <td>1048.892414</td>\n",
       "      <td>1748.656426</td>\n",
       "      <td>1752.539962</td>\n",
       "    </tr>\n",
       "  </tbody>\n",
       "</table>\n",
       "<p>1000 rows × 3 columns</p>\n",
       "</div>"
      ],
      "text/plain": [
       "           Fiyat  BisikletOzellik1  BisikletOzellik2\n",
       "0     807.673876       1749.628226       1749.590668\n",
       "1     959.227520       1748.007826       1751.824206\n",
       "2     718.020033       1750.122967       1747.977026\n",
       "3     945.668885       1749.916440       1750.771646\n",
       "4     955.542968       1750.780519       1750.592430\n",
       "..           ...               ...               ...\n",
       "995   833.920637       1750.033229       1749.427281\n",
       "996   800.298076       1747.996913       1750.035046\n",
       "997   799.261737       1752.540381       1747.983310\n",
       "998   705.802257       1751.349290       1747.484989\n",
       "999  1048.892414       1748.656426       1752.539962\n",
       "\n",
       "[1000 rows x 3 columns]"
      ]
     },
     "execution_count": 12,
     "metadata": {},
     "output_type": "execute_result"
    }
   ],
   "source": [
    "dataFrame"
   ]
  },
  {
   "cell_type": "markdown",
   "metadata": {},
   "source": [
    "# We want to display the first 5 lines in our dataFrame"
   ]
  },
  {
   "cell_type": "code",
   "execution_count": 13,
   "metadata": {},
   "outputs": [
    {
     "data": {
      "text/html": [
       "<div>\n",
       "<style scoped>\n",
       "    .dataframe tbody tr th:only-of-type {\n",
       "        vertical-align: middle;\n",
       "    }\n",
       "\n",
       "    .dataframe tbody tr th {\n",
       "        vertical-align: top;\n",
       "    }\n",
       "\n",
       "    .dataframe thead th {\n",
       "        text-align: right;\n",
       "    }\n",
       "</style>\n",
       "<table border=\"1\" class=\"dataframe\">\n",
       "  <thead>\n",
       "    <tr style=\"text-align: right;\">\n",
       "      <th></th>\n",
       "      <th>Fiyat</th>\n",
       "      <th>BisikletOzellik1</th>\n",
       "      <th>BisikletOzellik2</th>\n",
       "    </tr>\n",
       "  </thead>\n",
       "  <tbody>\n",
       "    <tr>\n",
       "      <th>0</th>\n",
       "      <td>807.673876</td>\n",
       "      <td>1749.628226</td>\n",
       "      <td>1749.590668</td>\n",
       "    </tr>\n",
       "    <tr>\n",
       "      <th>1</th>\n",
       "      <td>959.227520</td>\n",
       "      <td>1748.007826</td>\n",
       "      <td>1751.824206</td>\n",
       "    </tr>\n",
       "    <tr>\n",
       "      <th>2</th>\n",
       "      <td>718.020033</td>\n",
       "      <td>1750.122967</td>\n",
       "      <td>1747.977026</td>\n",
       "    </tr>\n",
       "    <tr>\n",
       "      <th>3</th>\n",
       "      <td>945.668885</td>\n",
       "      <td>1749.916440</td>\n",
       "      <td>1750.771646</td>\n",
       "    </tr>\n",
       "    <tr>\n",
       "      <th>4</th>\n",
       "      <td>955.542968</td>\n",
       "      <td>1750.780519</td>\n",
       "      <td>1750.592430</td>\n",
       "    </tr>\n",
       "  </tbody>\n",
       "</table>\n",
       "</div>"
      ],
      "text/plain": [
       "        Fiyat  BisikletOzellik1  BisikletOzellik2\n",
       "0  807.673876       1749.628226       1749.590668\n",
       "1  959.227520       1748.007826       1751.824206\n",
       "2  718.020033       1750.122967       1747.977026\n",
       "3  945.668885       1749.916440       1750.771646\n",
       "4  955.542968       1750.780519       1750.592430"
      ]
     },
     "execution_count": 13,
     "metadata": {},
     "output_type": "execute_result"
    }
   ],
   "source": [
    "dataFrame.head()"
   ]
  },
  {
   "cell_type": "markdown",
   "metadata": {},
   "source": [
    "# Seaborn library is using for data visualization"
   ]
  },
  {
   "cell_type": "code",
   "execution_count": 14,
   "metadata": {},
   "outputs": [],
   "source": [
    "import seaborn as sbn\n",
    "import matplotlib.pyplot as plt"
   ]
  },
  {
   "cell_type": "code",
   "execution_count": 15,
   "metadata": {},
   "outputs": [
    {
     "data": {
      "text/plain": [
       "<seaborn.axisgrid.PairGrid at 0x7efc490f9df0>"
      ]
     },
     "execution_count": 15,
     "metadata": {},
     "output_type": "execute_result"
    },
    {
     "data": {
      "image/png": "[encoded data removed]",
      "text/plain": [
       "<Figure size 540x540 with 12 Axes>"
      ]
     },
     "metadata": {
      "needs_background": "light"
     },
     "output_type": "display_data"
    }
   ],
   "source": [
    "sbn.pairplot(dataFrame)"
   ]
  },
  {
   "cell_type": "markdown",
   "metadata": {},
   "source": [
    "# Testing Sets/Split to the 2 training"
   ]
  },
  {
   "cell_type": "code",
   "execution_count": 16,
   "metadata": {},
   "outputs": [],
   "source": [
    "from sklearn.model_selection import train_test_split"
   ]
  },
  {
   "cell_type": "code",
   "execution_count": 18,
   "metadata": {},
   "outputs": [
    {
     "data": {
      "text/html": [
       "<div>\n",
       "<style scoped>\n",
       "    .dataframe tbody tr th:only-of-type {\n",
       "        vertical-align: middle;\n",
       "    }\n",
       "\n",
       "    .dataframe tbody tr th {\n",
       "        vertical-align: top;\n",
       "    }\n",
       "\n",
       "    .dataframe thead th {\n",
       "        text-align: right;\n",
       "    }\n",
       "</style>\n",
       "<table border=\"1\" class=\"dataframe\">\n",
       "  <thead>\n",
       "    <tr style=\"text-align: right;\">\n",
       "      <th></th>\n",
       "      <th>Fiyat</th>\n",
       "      <th>BisikletOzellik1</th>\n",
       "      <th>BisikletOzellik2</th>\n",
       "    </tr>\n",
       "  </thead>\n",
       "  <tbody>\n",
       "    <tr>\n",
       "      <th>0</th>\n",
       "      <td>807.673876</td>\n",
       "      <td>1749.628226</td>\n",
       "      <td>1749.590668</td>\n",
       "    </tr>\n",
       "    <tr>\n",
       "      <th>1</th>\n",
       "      <td>959.227520</td>\n",
       "      <td>1748.007826</td>\n",
       "      <td>1751.824206</td>\n",
       "    </tr>\n",
       "    <tr>\n",
       "      <th>2</th>\n",
       "      <td>718.020033</td>\n",
       "      <td>1750.122967</td>\n",
       "      <td>1747.977026</td>\n",
       "    </tr>\n",
       "    <tr>\n",
       "      <th>3</th>\n",
       "      <td>945.668885</td>\n",
       "      <td>1749.916440</td>\n",
       "      <td>1750.771646</td>\n",
       "    </tr>\n",
       "    <tr>\n",
       "      <th>4</th>\n",
       "      <td>955.542968</td>\n",
       "      <td>1750.780519</td>\n",
       "      <td>1750.592430</td>\n",
       "    </tr>\n",
       "    <tr>\n",
       "      <th>...</th>\n",
       "      <td>...</td>\n",
       "      <td>...</td>\n",
       "      <td>...</td>\n",
       "    </tr>\n",
       "    <tr>\n",
       "      <th>995</th>\n",
       "      <td>833.920637</td>\n",
       "      <td>1750.033229</td>\n",
       "      <td>1749.427281</td>\n",
       "    </tr>\n",
       "    <tr>\n",
       "      <th>996</th>\n",
       "      <td>800.298076</td>\n",
       "      <td>1747.996913</td>\n",
       "      <td>1750.035046</td>\n",
       "    </tr>\n",
       "    <tr>\n",
       "      <th>997</th>\n",
       "      <td>799.261737</td>\n",
       "      <td>1752.540381</td>\n",
       "      <td>1747.983310</td>\n",
       "    </tr>\n",
       "    <tr>\n",
       "      <th>998</th>\n",
       "      <td>705.802257</td>\n",
       "      <td>1751.349290</td>\n",
       "      <td>1747.484989</td>\n",
       "    </tr>\n",
       "    <tr>\n",
       "      <th>999</th>\n",
       "      <td>1048.892414</td>\n",
       "      <td>1748.656426</td>\n",
       "      <td>1752.539962</td>\n",
       "    </tr>\n",
       "  </tbody>\n",
       "</table>\n",
       "<p>1000 rows × 3 columns</p>\n",
       "</div>"
      ],
      "text/plain": [
       "           Fiyat  BisikletOzellik1  BisikletOzellik2\n",
       "0     807.673876       1749.628226       1749.590668\n",
       "1     959.227520       1748.007826       1751.824206\n",
       "2     718.020033       1750.122967       1747.977026\n",
       "3     945.668885       1749.916440       1750.771646\n",
       "4     955.542968       1750.780519       1750.592430\n",
       "..           ...               ...               ...\n",
       "995   833.920637       1750.033229       1749.427281\n",
       "996   800.298076       1747.996913       1750.035046\n",
       "997   799.261737       1752.540381       1747.983310\n",
       "998   705.802257       1751.349290       1747.484989\n",
       "999  1048.892414       1748.656426       1752.539962\n",
       "\n",
       "[1000 rows x 3 columns]"
      ]
     },
     "execution_count": 18,
     "metadata": {},
     "output_type": "execute_result"
    }
   ],
   "source": [
    "dataFrame"
   ]
  },
  {
   "cell_type": "markdown",
   "metadata": {},
   "source": [
    "# Declare x and y for our datas in excel"
   ]
  },
  {
   "cell_type": "code",
   "execution_count": 19,
   "metadata": {},
   "outputs": [],
   "source": [
    "y = dataFrame[\"Fiyat\"].values\n",
    "\n",
    "x = dataFrame[[\"BisikletOzellik1\",\"BisikletOzellik2\"]].values\n",
    "\n",
    "x_train, x_test, y_train, y_test = train_test_split(x,y,test_size = 0.33,random_state = 15)"
   ]
  },
  {
   "cell_type": "code",
   "execution_count": 20,
   "metadata": {},
   "outputs": [
    {
     "data": {
      "text/plain": [
       "(670, 2)"
      ]
     },
     "execution_count": 20,
     "metadata": {},
     "output_type": "execute_result"
    }
   ],
   "source": [
    "x_train.shape"
   ]
  },
  {
   "cell_type": "code",
   "execution_count": 21,
   "metadata": {},
   "outputs": [
    {
     "data": {
      "text/plain": [
       "(330, 2)"
      ]
     },
     "execution_count": 21,
     "metadata": {},
     "output_type": "execute_result"
    }
   ],
   "source": [
    "x_test.shape"
   ]
  },
  {
   "cell_type": "code",
   "execution_count": 22,
   "metadata": {},
   "outputs": [
    {
     "data": {
      "text/plain": [
       "(670,)"
      ]
     },
     "execution_count": 22,
     "metadata": {},
     "output_type": "execute_result"
    }
   ],
   "source": [
    "y_train.shape"
   ]
  },
  {
   "cell_type": "code",
   "execution_count": 23,
   "metadata": {},
   "outputs": [
    {
     "data": {
      "text/plain": [
       "(330,)"
      ]
     },
     "execution_count": 23,
     "metadata": {},
     "output_type": "execute_result"
    }
   ],
   "source": [
    "y_test.shape"
   ]
  },
  {
   "cell_type": "markdown",
   "metadata": {},
   "source": [
    "# Scale datas for better accuracy"
   ]
  },
  {
   "cell_type": "code",
   "execution_count": 24,
   "metadata": {},
   "outputs": [],
   "source": [
    "from sklearn.preprocessing import MinMaxScaler"
   ]
  },
  {
   "cell_type": "code",
   "execution_count": 25,
   "metadata": {},
   "outputs": [],
   "source": [
    "scaler = MinMaxScaler()"
   ]
  },
  {
   "cell_type": "code",
   "execution_count": 26,
   "metadata": {},
   "outputs": [
    {
     "data": {
      "text/plain": [
       "MinMaxScaler()"
      ]
     },
     "execution_count": 26,
     "metadata": {},
     "output_type": "execute_result"
    }
   ],
   "source": [
    "scaler.fit(x_train)"
   ]
  },
  {
   "cell_type": "code",
   "execution_count": 27,
   "metadata": {},
   "outputs": [],
   "source": [
    "x_train = scaler.transform(x_train)\n",
    "x_test = scaler.transform(x_test)"
   ]
  },
  {
   "cell_type": "code",
   "execution_count": 28,
   "metadata": {},
   "outputs": [
    {
     "data": {
      "text/plain": [
       "array([[0.3177906 , 0.64341466],\n",
       "       [0.61991638, 0.89583174],\n",
       "       [0.53950097, 0.0980286 ],\n",
       "       ...,\n",
       "       [0.2352117 , 0.52644765],\n",
       "       [0.7576794 , 0.19157421],\n",
       "       [0.4292982 , 0.16530301]])"
      ]
     },
     "execution_count": 28,
     "metadata": {},
     "output_type": "execute_result"
    }
   ],
   "source": [
    "x_train"
   ]
  },
  {
   "cell_type": "markdown",
   "metadata": {},
   "source": [
    "# Another library for model structure"
   ]
  },
  {
   "cell_type": "code",
   "execution_count": 29,
   "metadata": {},
   "outputs": [],
   "source": [
    "import tensorflow as tf\n",
    "from tensorflow.keras.models import Sequential\n",
    "from tensorflow.keras.layers import Dense"
   ]
  },
  {
   "cell_type": "code",
   "execution_count": 30,
   "metadata": {},
   "outputs": [],
   "source": [
    "model = Sequential()\n",
    "\n",
    "model.add(Dense(4,activation = \"relu\"))\n",
    "model.add(Dense(4,activation = \"relu\"))\n",
    "model.add(Dense(4,activation = \"relu\"))\n",
    "\n",
    "model.add(Dense(1))\n",
    "\n",
    "model.compile(optimizer = \"rmsprop\",loss = \"mse\")"
   ]
  },
  {
   "cell_type": "markdown",
   "metadata": {},
   "source": [
    "# Train our datas with 250 epochs"
   ]
  },
  {
   "cell_type": "code",
   "execution_count": 31,
   "metadata": {},
   "outputs": [
    {
     "name": "stdout",
     "output_type": "stream",
     "text": [
      "Epoch 1/250\n",
      "21/21 [==============================] - 0s 7ms/step - loss: 796593.3125\n",
      "Epoch 2/250\n",
      "21/21 [==============================] - 0s 5ms/step - loss: 796296.4375\n",
      "Epoch 3/250\n",
      "21/21 [==============================] - 0s 6ms/step - loss: 796065.6250\n",
      "Epoch 4/250\n",
      "21/21 [==============================] - 0s 6ms/step - loss: 795893.4375\n",
      "Epoch 5/250\n",
      "21/21 [==============================] - 0s 5ms/step - loss: 795780.0000\n",
      "Epoch 6/250\n",
      "21/21 [==============================] - 0s 5ms/step - loss: 795720.2500\n",
      "Epoch 7/250\n",
      "21/21 [==============================] - 0s 5ms/step - loss: 795677.5625\n",
      "Epoch 8/250\n",
      "21/21 [==============================] - 0s 5ms/step - loss: 795639.6250\n",
      "Epoch 9/250\n",
      "21/21 [==============================] - 0s 7ms/step - loss: 795602.7500\n",
      "Epoch 10/250\n",
      "21/21 [==============================] - 0s 8ms/step - loss: 795565.6875\n",
      "Epoch 11/250\n",
      "21/21 [==============================] - 0s 7ms/step - loss: 795529.0000\n",
      "Epoch 12/250\n",
      "21/21 [==============================] - 0s 7ms/step - loss: 795492.2500\n",
      "Epoch 13/250\n",
      "21/21 [==============================] - 0s 5ms/step - loss: 795455.3125\n",
      "Epoch 14/250\n",
      "21/21 [==============================] - 0s 5ms/step - loss: 795418.5000\n",
      "Epoch 15/250\n",
      "21/21 [==============================] - 0s 7ms/step - loss: 795381.7500\n",
      "Epoch 16/250\n",
      "21/21 [==============================] - 0s 5ms/step - loss: 795344.8750\n",
      "Epoch 17/250\n",
      "21/21 [==============================] - 0s 5ms/step - loss: 795308.2500\n",
      "Epoch 18/250\n",
      "21/21 [==============================] - 0s 7ms/step - loss: 795271.3750\n",
      "Epoch 19/250\n",
      "21/21 [==============================] - 0s 5ms/step - loss: 795234.4375\n",
      "Epoch 20/250\n",
      "21/21 [==============================] - 0s 7ms/step - loss: 795197.6875\n",
      "Epoch 21/250\n",
      "21/21 [==============================] - 0s 14ms/step - loss: 795160.8750\n",
      "Epoch 22/250\n",
      "21/21 [==============================] - 0s 7ms/step - loss: 795124.0625\n",
      "Epoch 23/250\n",
      "21/21 [==============================] - 0s 9ms/step - loss: 795087.3125\n",
      "Epoch 24/250\n",
      "21/21 [==============================] - 0s 7ms/step - loss: 795050.6250\n",
      "Epoch 25/250\n",
      "21/21 [==============================] - 0s 11ms/step - loss: 795013.6875\n",
      "Epoch 26/250\n",
      "21/21 [==============================] - 0s 6ms/step - loss: 794977.0000\n",
      "Epoch 27/250\n",
      "21/21 [==============================] - 0s 12ms/step - loss: 794940.0625\n",
      "Epoch 28/250\n",
      "21/21 [==============================] - 0s 14ms/step - loss: 794903.3750\n",
      "Epoch 29/250\n",
      "21/21 [==============================] - 0s 7ms/step - loss: 794866.5625\n",
      "Epoch 30/250\n",
      "21/21 [==============================] - 0s 7ms/step - loss: 794829.8750\n",
      "Epoch 31/250\n",
      "21/21 [==============================] - 0s 5ms/step - loss: 794793.0625\n",
      "Epoch 32/250\n",
      "21/21 [==============================] - 0s 11ms/step - loss: 794756.1875\n",
      "Epoch 33/250\n",
      "21/21 [==============================] - 0s 7ms/step - loss: 794719.3125\n",
      "Epoch 34/250\n",
      "21/21 [==============================] - 0s 5ms/step - loss: 794682.6250\n",
      "Epoch 35/250\n",
      "21/21 [==============================] - 0s 13ms/step - loss: 794645.8750\n",
      "Epoch 36/250\n",
      "21/21 [==============================] - 0s 7ms/step - loss: 794609.1875\n",
      "Epoch 37/250\n",
      "21/21 [==============================] - 0s 7ms/step - loss: 794572.3750\n",
      "Epoch 38/250\n",
      "21/21 [==============================] - 0s 5ms/step - loss: 794535.5625\n",
      "Epoch 39/250\n",
      "21/21 [==============================] - 0s 5ms/step - loss: 794498.7500\n",
      "Epoch 40/250\n",
      "21/21 [==============================] - 0s 4ms/step - loss: 794461.9375\n",
      "Epoch 41/250\n",
      "21/21 [==============================] - 0s 7ms/step - loss: 794425.1875\n",
      "Epoch 42/250\n",
      "21/21 [==============================] - 0s 15ms/step - loss: 794388.5625\n",
      "Epoch 43/250\n",
      "21/21 [==============================] - 0s 6ms/step - loss: 794351.7500\n",
      "Epoch 44/250\n",
      "21/21 [==============================] - 0s 7ms/step - loss: 794315.0000\n",
      "Epoch 45/250\n",
      "21/21 [==============================] - 0s 6ms/step - loss: 794278.1875\n",
      "Epoch 46/250\n",
      "21/21 [==============================] - 0s 6ms/step - loss: 794241.2500\n",
      "Epoch 47/250\n",
      "21/21 [==============================] - 0s 13ms/step - loss: 794204.5625 0s - loss: 809\n",
      "Epoch 48/250\n",
      "21/21 [==============================] - 0s 6ms/step - loss: 794167.8750\n",
      "Epoch 49/250\n",
      "21/21 [==============================] - 0s 12ms/step - loss: 794130.9375\n",
      "Epoch 50/250\n",
      "21/21 [==============================] - 0s 6ms/step - loss: 794094.2500\n",
      "Epoch 51/250\n",
      "21/21 [==============================] - 0s 6ms/step - loss: 794057.4375\n",
      "Epoch 52/250\n",
      "21/21 [==============================] - 0s 12ms/step - loss: 794020.7500\n",
      "Epoch 53/250\n",
      "21/21 [==============================] - 0s 9ms/step - loss: 793983.9375\n",
      "Epoch 54/250\n",
      "21/21 [==============================] - 0s 6ms/step - loss: 793947.2500\n",
      "Epoch 55/250\n",
      "21/21 [==============================] - 0s 5ms/step - loss: 793910.2500\n",
      "Epoch 56/250\n",
      "21/21 [==============================] - 0s 6ms/step - loss: 793873.6250\n",
      "Epoch 57/250\n",
      "21/21 [==============================] - 0s 3ms/step - loss: 793836.8750\n",
      "Epoch 58/250\n",
      "21/21 [==============================] - 0s 5ms/step - loss: 793800.1250\n",
      "Epoch 59/250\n",
      "21/21 [==============================] - 0s 5ms/step - loss: 793763.3125\n",
      "Epoch 60/250\n",
      "21/21 [==============================] - 0s 8ms/step - loss: 793726.6875\n",
      "Epoch 61/250\n",
      "21/21 [==============================] - 0s 7ms/step - loss: 793689.8125\n",
      "Epoch 62/250\n",
      "21/21 [==============================] - 0s 9ms/step - loss: 793653.0000\n",
      "Epoch 63/250\n",
      "21/21 [==============================] - 0s 10ms/step - loss: 793616.3125\n",
      "Epoch 64/250\n",
      "21/21 [==============================] - 0s 8ms/step - loss: 793579.5625\n",
      "Epoch 65/250\n",
      "21/21 [==============================] - 0s 6ms/step - loss: 793542.8750\n",
      "Epoch 66/250\n",
      "21/21 [==============================] - 0s 9ms/step - loss: 793506.1250\n",
      "Epoch 67/250\n",
      "21/21 [==============================] - 0s 11ms/step - loss: 793469.2500\n",
      "Epoch 68/250\n",
      "21/21 [==============================] - 0s 3ms/step - loss: 793432.4375\n",
      "Epoch 69/250\n",
      "21/21 [==============================] - 0s 8ms/step - loss: 793395.8750\n",
      "Epoch 70/250\n",
      "21/21 [==============================] - 0s 8ms/step - loss: 793359.0000\n",
      "Epoch 71/250\n",
      "21/21 [==============================] - 0s 8ms/step - loss: 793322.2500\n",
      "Epoch 72/250\n",
      "21/21 [==============================] - 0s 5ms/step - loss: 793285.4375\n",
      "Epoch 73/250\n",
      "21/21 [==============================] - 0s 6ms/step - loss: 793248.6875\n",
      "Epoch 74/250\n",
      "21/21 [==============================] - 0s 8ms/step - loss: 793211.8750\n",
      "Epoch 75/250\n",
      "21/21 [==============================] - 0s 11ms/step - loss: 793175.3125\n",
      "Epoch 76/250\n",
      "21/21 [==============================] - 0s 10ms/step - loss: 793138.5000\n",
      "Epoch 77/250\n",
      "21/21 [==============================] - 0s 11ms/step - loss: 793101.6875\n",
      "Epoch 78/250\n",
      "21/21 [==============================] - 0s 11ms/step - loss: 793065.0000\n",
      "Epoch 79/250\n",
      "21/21 [==============================] - 0s 10ms/step - loss: 793028.1875\n",
      "Epoch 80/250\n",
      "21/21 [==============================] - 0s 8ms/step - loss: 792991.5625\n",
      "Epoch 81/250\n",
      "21/21 [==============================] - 0s 11ms/step - loss: 792954.8125\n",
      "Epoch 82/250\n",
      "21/21 [==============================] - 0s 12ms/step - loss: 792918.0000\n",
      "Epoch 83/250\n",
      "21/21 [==============================] - 0s 5ms/step - loss: 792881.1875\n",
      "Epoch 84/250\n",
      "21/21 [==============================] - 0s 10ms/step - loss: 792844.5625\n",
      "Epoch 85/250\n",
      "21/21 [==============================] - 0s 17ms/step - loss: 792807.8750\n",
      "Epoch 86/250\n",
      "21/21 [==============================] - 0s 13ms/step - loss: 792770.9375\n",
      "Epoch 87/250\n",
      "21/21 [==============================] - 0s 13ms/step - loss: 792734.2500\n",
      "Epoch 88/250\n",
      "21/21 [==============================] - 0s 12ms/step - loss: 792697.6875\n",
      "Epoch 89/250\n",
      "21/21 [==============================] - 0s 13ms/step - loss: 792661.0625\n",
      "Epoch 90/250\n",
      "21/21 [==============================] - 0s 11ms/step - loss: 792624.1250\n",
      "Epoch 91/250\n",
      "21/21 [==============================] - 0s 8ms/step - loss: 792587.4375\n",
      "Epoch 92/250\n",
      "21/21 [==============================] - 0s 10ms/step - loss: 792550.7500\n",
      "Epoch 93/250\n",
      "21/21 [==============================] - 0s 9ms/step - loss: 792513.9375\n",
      "Epoch 94/250\n",
      "21/21 [==============================] - 0s 11ms/step - loss: 792477.1250\n",
      "Epoch 95/250\n",
      "21/21 [==============================] - 0s 8ms/step - loss: 792440.5625\n",
      "Epoch 96/250\n",
      "21/21 [==============================] - 0s 7ms/step - loss: 792403.7500\n",
      "Epoch 97/250\n",
      "21/21 [==============================] - 0s 8ms/step - loss: 792367.0625\n",
      "Epoch 98/250\n",
      "21/21 [==============================] - 0s 8ms/step - loss: 792330.3750\n",
      "Epoch 99/250\n",
      "21/21 [==============================] - 0s 11ms/step - loss: 792293.5625\n",
      "Epoch 100/250\n",
      "21/21 [==============================] - 0s 5ms/step - loss: 792256.9375\n",
      "Epoch 101/250\n",
      "21/21 [==============================] - 0s 5ms/step - loss: 792220.0625\n",
      "Epoch 102/250\n",
      "21/21 [==============================] - 0s 10ms/step - loss: 792183.3750\n",
      "Epoch 103/250\n",
      "21/21 [==============================] - 0s 10ms/step - loss: 792146.6250\n",
      "Epoch 104/250\n",
      "21/21 [==============================] - 0s 8ms/step - loss: 792109.9375\n",
      "Epoch 105/250\n",
      "21/21 [==============================] - 0s 6ms/step - loss: 792073.1875\n",
      "Epoch 106/250\n",
      "21/21 [==============================] - 0s 9ms/step - loss: 792036.5000\n",
      "Epoch 107/250\n",
      "21/21 [==============================] - 0s 6ms/step - loss: 791999.8125\n",
      "Epoch 108/250\n",
      "21/21 [==============================] - 0s 6ms/step - loss: 791963.0625\n",
      "Epoch 109/250\n",
      "21/21 [==============================] - 0s 8ms/step - loss: 791926.3750\n",
      "Epoch 110/250\n",
      "21/21 [==============================] - 0s 5ms/step - loss: 791889.7500\n",
      "Epoch 111/250\n",
      "21/21 [==============================] - 0s 8ms/step - loss: 791853.0000\n",
      "Epoch 112/250\n",
      "21/21 [==============================] - 0s 7ms/step - loss: 791816.1875\n",
      "Epoch 113/250\n",
      "21/21 [==============================] - 0s 11ms/step - loss: 791779.5000\n",
      "Epoch 114/250\n",
      "21/21 [==============================] - 0s 8ms/step - loss: 791742.7500\n",
      "Epoch 115/250\n",
      "21/21 [==============================] - 0s 14ms/step - loss: 791706.0625\n",
      "Epoch 116/250\n",
      "21/21 [==============================] - 0s 6ms/step - loss: 791669.5000\n",
      "Epoch 117/250\n",
      "21/21 [==============================] - 0s 9ms/step - loss: 791632.6875\n",
      "Epoch 118/250\n",
      "21/21 [==============================] - 0s 7ms/step - loss: 791596.0000\n",
      "Epoch 119/250\n",
      "21/21 [==============================] - 0s 9ms/step - loss: 791559.3125\n",
      "Epoch 120/250\n",
      "21/21 [==============================] - 0s 7ms/step - loss: 791522.6250\n",
      "Epoch 121/250\n",
      "21/21 [==============================] - 0s 4ms/step - loss: 791485.8125\n",
      "Epoch 122/250\n",
      "21/21 [==============================] - 0s 5ms/step - loss: 791449.1250\n",
      "Epoch 123/250\n",
      "21/21 [==============================] - 0s 12ms/step - loss: 791412.5625\n",
      "Epoch 124/250\n",
      "21/21 [==============================] - 0s 7ms/step - loss: 791375.8125\n",
      "Epoch 125/250\n",
      "21/21 [==============================] - 0s 7ms/step - loss: 791339.0625\n",
      "Epoch 126/250\n",
      "21/21 [==============================] - 0s 7ms/step - loss: 791302.3750\n",
      "Epoch 127/250\n",
      "21/21 [==============================] - 0s 10ms/step - loss: 791265.8125\n",
      "Epoch 128/250\n",
      "21/21 [==============================] - 0s 6ms/step - loss: 791229.0625\n",
      "Epoch 129/250\n",
      "21/21 [==============================] - 0s 4ms/step - loss: 791192.3750\n",
      "Epoch 130/250\n",
      "21/21 [==============================] - 0s 9ms/step - loss: 791155.5000\n",
      "Epoch 131/250\n",
      "21/21 [==============================] - 0s 4ms/step - loss: 791118.8750\n",
      "Epoch 132/250\n",
      "21/21 [==============================] - 0s 13ms/step - loss: 791082.3125\n",
      "Epoch 133/250\n",
      "21/21 [==============================] - 0s 7ms/step - loss: 791045.5625\n",
      "Epoch 134/250\n",
      "21/21 [==============================] - 0s 9ms/step - loss: 791008.8750\n",
      "Epoch 135/250\n",
      "21/21 [==============================] - 0s 7ms/step - loss: 790972.1250\n",
      "Epoch 136/250\n",
      "21/21 [==============================] - 0s 9ms/step - loss: 790935.2500\n",
      "Epoch 137/250\n",
      "21/21 [==============================] - 0s 10ms/step - loss: 790898.5625\n",
      "Epoch 138/250\n",
      "21/21 [==============================] - 0s 5ms/step - loss: 790861.9375\n",
      "Epoch 139/250\n",
      "21/21 [==============================] - 0s 9ms/step - loss: 790825.1875\n",
      "Epoch 140/250\n",
      "21/21 [==============================] - 0s 11ms/step - loss: 790788.6250\n",
      "Epoch 141/250\n",
      "21/21 [==============================] - 0s 9ms/step - loss: 790752.0000\n",
      "Epoch 142/250\n",
      "21/21 [==============================] - 0s 7ms/step - loss: 790715.2500\n",
      "Epoch 143/250\n",
      "21/21 [==============================] - 0s 6ms/step - loss: 790678.5625\n",
      "Epoch 144/250\n",
      "21/21 [==============================] - 0s 11ms/step - loss: 790641.9375\n",
      "Epoch 145/250\n",
      "21/21 [==============================] - 0s 6ms/step - loss: 790605.1875\n",
      "Epoch 146/250\n",
      "21/21 [==============================] - 0s 13ms/step - loss: 790568.4375\n",
      "Epoch 147/250\n",
      "21/21 [==============================] - 0s 4ms/step - loss: 790531.7500\n",
      "Epoch 148/250\n",
      "21/21 [==============================] - 0s 4ms/step - loss: 790495.2500\n",
      "Epoch 149/250\n",
      "21/21 [==============================] - 0s 10ms/step - loss: 790458.5000\n",
      "Epoch 150/250\n",
      "21/21 [==============================] - 0s 6ms/step - loss: 790421.6875\n",
      "Epoch 151/250\n",
      "21/21 [==============================] - 0s 10ms/step - loss: 790385.1875\n",
      "Epoch 152/250\n",
      "21/21 [==============================] - 0s 7ms/step - loss: 790348.5625\n",
      "Epoch 153/250\n",
      "21/21 [==============================] - 0s 7ms/step - loss: 790311.8125\n",
      "Epoch 154/250\n",
      "21/21 [==============================] - 0s 7ms/step - loss: 790275.1250\n",
      "Epoch 155/250\n",
      "21/21 [==============================] - 0s 7ms/step - loss: 790238.5000\n",
      "Epoch 156/250\n",
      "21/21 [==============================] - 0s 6ms/step - loss: 790201.8125\n",
      "Epoch 157/250\n",
      "21/21 [==============================] - 0s 8ms/step - loss: 790165.1875\n",
      "Epoch 158/250\n",
      "21/21 [==============================] - 0s 10ms/step - loss: 790128.5000\n",
      "Epoch 159/250\n",
      "21/21 [==============================] - 0s 6ms/step - loss: 790091.8750\n",
      "Epoch 160/250\n",
      "21/21 [==============================] - 0s 7ms/step - loss: 790055.0000\n",
      "Epoch 161/250\n",
      "21/21 [==============================] - 0s 5ms/step - loss: 790018.3750\n",
      "Epoch 162/250\n",
      "21/21 [==============================] - 0s 6ms/step - loss: 789981.6250\n",
      "Epoch 163/250\n",
      "21/21 [==============================] - 0s 7ms/step - loss: 789944.9375\n",
      "Epoch 164/250\n",
      "21/21 [==============================] - 0s 4ms/step - loss: 789908.3750\n",
      "Epoch 165/250\n",
      "21/21 [==============================] - 0s 6ms/step - loss: 789871.7500\n",
      "Epoch 166/250\n",
      "21/21 [==============================] - 0s 8ms/step - loss: 789835.0625\n",
      "Epoch 167/250\n",
      "21/21 [==============================] - 0s 10ms/step - loss: 789798.3750\n",
      "Epoch 168/250\n",
      "21/21 [==============================] - 0s 6ms/step - loss: 789761.7500\n",
      "Epoch 169/250\n",
      "21/21 [==============================] - 0s 10ms/step - loss: 789725.0625\n",
      "Epoch 170/250\n",
      "21/21 [==============================] - 0s 9ms/step - loss: 789688.3750\n",
      "Epoch 171/250\n",
      "21/21 [==============================] - 0s 5ms/step - loss: 789651.7500\n",
      "Epoch 172/250\n",
      "21/21 [==============================] - 0s 4ms/step - loss: 789615.0625\n",
      "Epoch 173/250\n",
      "21/21 [==============================] - 0s 7ms/step - loss: 789578.3750\n",
      "Epoch 174/250\n",
      "21/21 [==============================] - 0s 9ms/step - loss: 789541.6875\n",
      "Epoch 175/250\n",
      "21/21 [==============================] - 0s 9ms/step - loss: 789505.0625\n",
      "Epoch 176/250\n",
      "21/21 [==============================] - 0s 10ms/step - loss: 789468.4375\n",
      "Epoch 177/250\n",
      "21/21 [==============================] - 0s 9ms/step - loss: 789431.6250\n",
      "Epoch 178/250\n",
      "21/21 [==============================] - 0s 8ms/step - loss: 789395.1250\n",
      "Epoch 179/250\n",
      "21/21 [==============================] - 0s 7ms/step - loss: 789358.5000\n",
      "Epoch 180/250\n",
      "21/21 [==============================] - 0s 6ms/step - loss: 789321.7500\n",
      "Epoch 181/250\n",
      "21/21 [==============================] - 0s 8ms/step - loss: 789285.1250\n",
      "Epoch 182/250\n",
      "21/21 [==============================] - 0s 8ms/step - loss: 789248.5000\n",
      "Epoch 183/250\n",
      "21/21 [==============================] - 0s 10ms/step - loss: 789211.6875\n",
      "Epoch 184/250\n",
      "21/21 [==============================] - 0s 8ms/step - loss: 789175.1875\n",
      "Epoch 185/250\n",
      "21/21 [==============================] - 0s 7ms/step - loss: 789138.5625\n",
      "Epoch 186/250\n",
      "21/21 [==============================] - 0s 9ms/step - loss: 789101.8750\n",
      "Epoch 187/250\n",
      "21/21 [==============================] - 0s 8ms/step - loss: 789065.1875\n",
      "Epoch 188/250\n",
      "21/21 [==============================] - 0s 5ms/step - loss: 789028.5000\n",
      "Epoch 189/250\n"
     ]
    },
    {
     "name": "stdout",
     "output_type": "stream",
     "text": [
      "21/21 [==============================] - 0s 4ms/step - loss: 788991.8750\n",
      "Epoch 190/250\n",
      "21/21 [==============================] - 0s 6ms/step - loss: 788955.3125\n",
      "Epoch 191/250\n",
      "21/21 [==============================] - 0s 7ms/step - loss: 788918.6875\n",
      "Epoch 192/250\n",
      "21/21 [==============================] - 0s 5ms/step - loss: 788882.0000\n",
      "Epoch 193/250\n",
      "21/21 [==============================] - 0s 7ms/step - loss: 788845.3750\n",
      "Epoch 194/250\n",
      "21/21 [==============================] - 0s 4ms/step - loss: 788808.6875\n",
      "Epoch 195/250\n",
      "21/21 [==============================] - 0s 6ms/step - loss: 788772.1250\n",
      "Epoch 196/250\n",
      "21/21 [==============================] - 0s 5ms/step - loss: 788735.3750\n",
      "Epoch 197/250\n",
      "21/21 [==============================] - 0s 5ms/step - loss: 788698.8125\n",
      "Epoch 198/250\n",
      "21/21 [==============================] - 0s 7ms/step - loss: 788662.1250\n",
      "Epoch 199/250\n",
      "21/21 [==============================] - 0s 8ms/step - loss: 788625.5000\n",
      "Epoch 200/250\n",
      "21/21 [==============================] - 0s 5ms/step - loss: 788588.8750\n",
      "Epoch 201/250\n",
      "21/21 [==============================] - 0s 7ms/step - loss: 788552.3125\n",
      "Epoch 202/250\n",
      "21/21 [==============================] - 0s 8ms/step - loss: 788515.6250\n",
      "Epoch 203/250\n",
      "21/21 [==============================] - 0s 7ms/step - loss: 788479.0000\n",
      "Epoch 204/250\n",
      "21/21 [==============================] - 0s 4ms/step - loss: 788442.2500\n",
      "Epoch 205/250\n",
      "21/21 [==============================] - 0s 6ms/step - loss: 788405.6875\n",
      "Epoch 206/250\n",
      "21/21 [==============================] - 0s 7ms/step - loss: 788369.1250\n",
      "Epoch 207/250\n",
      "21/21 [==============================] - 0s 7ms/step - loss: 788332.3125\n",
      "Epoch 208/250\n",
      "21/21 [==============================] - 0s 7ms/step - loss: 788295.8125\n",
      "Epoch 209/250\n",
      "21/21 [==============================] - 0s 7ms/step - loss: 788259.1875\n",
      "Epoch 210/250\n",
      "21/21 [==============================] - 0s 5ms/step - loss: 788222.5000\n",
      "Epoch 211/250\n",
      "21/21 [==============================] - 0s 7ms/step - loss: 788185.8750\n",
      "Epoch 212/250\n",
      "21/21 [==============================] - 0s 8ms/step - loss: 788149.3750\n",
      "Epoch 213/250\n",
      "21/21 [==============================] - 0s 8ms/step - loss: 788112.6250\n",
      "Epoch 214/250\n",
      "21/21 [==============================] - 0s 6ms/step - loss: 788076.0625\n",
      "Epoch 215/250\n",
      "21/21 [==============================] - 0s 7ms/step - loss: 788039.4375\n",
      "Epoch 216/250\n",
      "21/21 [==============================] - 0s 7ms/step - loss: 788002.8750\n",
      "Epoch 217/250\n",
      "21/21 [==============================] - 0s 7ms/step - loss: 787966.2500\n",
      "Epoch 218/250\n",
      "21/21 [==============================] - 0s 8ms/step - loss: 787929.6250\n",
      "Epoch 219/250\n",
      "21/21 [==============================] - 0s 6ms/step - loss: 787892.9375\n",
      "Epoch 220/250\n",
      "21/21 [==============================] - 0s 9ms/step - loss: 787856.3125\n",
      "Epoch 221/250\n",
      "21/21 [==============================] - 0s 7ms/step - loss: 787819.6875\n",
      "Epoch 222/250\n",
      "21/21 [==============================] - 0s 8ms/step - loss: 787783.0000\n",
      "Epoch 223/250\n",
      "21/21 [==============================] - 0s 7ms/step - loss: 787746.3125\n",
      "Epoch 224/250\n",
      "21/21 [==============================] - 0s 7ms/step - loss: 787709.9375\n",
      "Epoch 225/250\n",
      "21/21 [==============================] - 0s 8ms/step - loss: 787673.1875\n",
      "Epoch 226/250\n",
      "21/21 [==============================] - 0s 8ms/step - loss: 787636.6875\n",
      "Epoch 227/250\n",
      "21/21 [==============================] - 0s 8ms/step - loss: 787599.8750\n",
      "Epoch 228/250\n",
      "21/21 [==============================] - 0s 8ms/step - loss: 787563.3125\n",
      "Epoch 229/250\n",
      "21/21 [==============================] - 0s 8ms/step - loss: 787526.8125\n",
      "Epoch 230/250\n",
      "21/21 [==============================] - 0s 5ms/step - loss: 787490.0625\n",
      "Epoch 231/250\n",
      "21/21 [==============================] - 0s 7ms/step - loss: 787453.5000\n",
      "Epoch 232/250\n",
      "21/21 [==============================] - 0s 6ms/step - loss: 787416.8750\n",
      "Epoch 233/250\n",
      "21/21 [==============================] - 0s 8ms/step - loss: 787380.3125\n",
      "Epoch 234/250\n",
      "21/21 [==============================] - 0s 8ms/step - loss: 787343.6875\n",
      "Epoch 235/250\n",
      "21/21 [==============================] - 0s 8ms/step - loss: 787307.0625\n",
      "Epoch 236/250\n",
      "21/21 [==============================] - 0s 7ms/step - loss: 787270.5000\n",
      "Epoch 237/250\n",
      "21/21 [==============================] - 0s 9ms/step - loss: 787233.8125\n",
      "Epoch 238/250\n",
      "21/21 [==============================] - 0s 7ms/step - loss: 787197.1875\n",
      "Epoch 239/250\n",
      "21/21 [==============================] - 0s 10ms/step - loss: 787160.6875\n",
      "Epoch 240/250\n",
      "21/21 [==============================] - 0s 8ms/step - loss: 787124.1250\n",
      "Epoch 241/250\n",
      "21/21 [==============================] - 0s 8ms/step - loss: 787087.5000\n",
      "Epoch 242/250\n",
      "21/21 [==============================] - 0s 7ms/step - loss: 787050.7500\n",
      "Epoch 243/250\n",
      "21/21 [==============================] - 0s 6ms/step - loss: 787014.3125\n",
      "Epoch 244/250\n",
      "21/21 [==============================] - 0s 10ms/step - loss: 786977.8125\n",
      "Epoch 245/250\n",
      "21/21 [==============================] - 0s 8ms/step - loss: 786941.2500\n",
      "Epoch 246/250\n",
      "21/21 [==============================] - 0s 10ms/step - loss: 786904.3750\n",
      "Epoch 247/250\n",
      "21/21 [==============================] - 0s 6ms/step - loss: 786867.9375\n",
      "Epoch 248/250\n",
      "21/21 [==============================] - 0s 6ms/step - loss: 786831.2500\n",
      "Epoch 249/250\n",
      "21/21 [==============================] - 0s 10ms/step - loss: 786794.6875\n",
      "Epoch 250/250\n",
      "21/21 [==============================] - 0s 8ms/step - loss: 786758.1875\n"
     ]
    },
    {
     "data": {
      "text/plain": [
       "<tensorflow.python.keras.callbacks.History at 0x7efc3afa80d0>"
      ]
     },
     "execution_count": 31,
     "metadata": {},
     "output_type": "execute_result"
    }
   ],
   "source": [
    "model.fit(x_train,y_train,epochs = 250)"
   ]
  },
  {
   "cell_type": "code",
   "execution_count": 36,
   "metadata": {},
   "outputs": [],
   "source": [
    "loss = model.history.history[\"loss\"]"
   ]
  },
  {
   "cell_type": "code",
   "execution_count": 37,
   "metadata": {},
   "outputs": [
    {
     "data": {
      "text/plain": [
       "<matplotlib.axes._subplots.AxesSubplot at 0x7efc24c434f0>"
      ]
     },
     "execution_count": 37,
     "metadata": {},
     "output_type": "execute_result"
    },
    {
     "data": {
      "image/png": "[encoded data removed]",
      "text/plain": [
       "<Figure size 432x288 with 1 Axes>"
      ]
     },
     "metadata": {
      "needs_background": "light"
     },
     "output_type": "display_data"
    }
   ],
   "source": [
    "sbn.lineplot(x = range(len(loss)),y = loss)"
   ]
  },
  {
   "cell_type": "markdown",
   "metadata": {},
   "source": [
    "# Train and test loss declare in our model"
   ]
  },
  {
   "cell_type": "code",
   "execution_count": 39,
   "metadata": {},
   "outputs": [],
   "source": [
    "trainLoss = model.evaluate(x_train,y_train, verbose = 0)"
   ]
  },
  {
   "cell_type": "code",
   "execution_count": 40,
   "metadata": {},
   "outputs": [],
   "source": [
    "testLoss = model.evaluate(x_test,y_test, verbose = 0)"
   ]
  },
  {
   "cell_type": "code",
   "execution_count": 41,
   "metadata": {},
   "outputs": [
    {
     "data": {
      "text/plain": [
       "786738.75"
      ]
     },
     "execution_count": 41,
     "metadata": {},
     "output_type": "execute_result"
    }
   ],
   "source": [
    "trainLoss"
   ]
  },
  {
   "cell_type": "code",
   "execution_count": 42,
   "metadata": {},
   "outputs": [
    {
     "data": {
      "text/plain": [
       "764289.4375"
      ]
     },
     "execution_count": 42,
     "metadata": {},
     "output_type": "execute_result"
    }
   ],
   "source": [
    "testLoss"
   ]
  },
  {
   "cell_type": "markdown",
   "metadata": {},
   "source": [
    "# We need to model predict from x_test"
   ]
  },
  {
   "cell_type": "code",
   "execution_count": 44,
   "metadata": {},
   "outputs": [],
   "source": [
    "testPrediction = model.predict(x_test)"
   ]
  },
  {
   "cell_type": "code",
   "execution_count": 45,
   "metadata": {},
   "outputs": [
    {
     "data": {
      "text/plain": [
       "array([[5.2559485],\n",
       "       [5.2559485],\n",
       "       [5.2559485],\n",
       "       [5.2559485],\n",
       "       [5.2559485],\n",
       "       [5.255722 ],\n",
       "       [5.2559485],\n",
       "       [5.2559485],\n",
       "       [5.2559485],\n",
       "       [5.2559485],\n",
       "       [5.2559485],\n",
       "       [5.2559485],\n",
       "       [5.2559485],\n",
       "       [5.2559485],\n",
       "       [5.2559485],\n",
       "       [5.2559485],\n",
       "       [5.2559485],\n",
       "       [5.2559485],\n",
       "       [5.2559485],\n",
       "       [5.2559485],\n",
       "       [5.2559485],\n",
       "       [5.2559485],\n",
       "       [5.2559485],\n",
       "       [5.2559485],\n",
       "       [5.2559485],\n",
       "       [5.2559485],\n",
       "       [5.2559485],\n",
       "       [5.2559485],\n",
       "       [5.2559485],\n",
       "       [5.2559485],\n",
       "       [5.255789 ],\n",
       "       [5.2559485],\n",
       "       [5.2559485],\n",
       "       [5.2559485],\n",
       "       [5.2559485],\n",
       "       [5.2559485],\n",
       "       [5.2559485],\n",
       "       [5.2559485],\n",
       "       [5.2559485],\n",
       "       [5.2559485],\n",
       "       [5.2559485],\n",
       "       [5.2559485],\n",
       "       [5.2559485],\n",
       "       [5.2559485],\n",
       "       [5.2559485],\n",
       "       [5.2559485],\n",
       "       [5.2559485],\n",
       "       [5.2559485],\n",
       "       [5.2559485],\n",
       "       [5.2559485],\n",
       "       [5.2559485],\n",
       "       [5.2559485],\n",
       "       [5.2559485],\n",
       "       [5.2559485],\n",
       "       [5.2559485],\n",
       "       [5.2559485],\n",
       "       [5.2559485],\n",
       "       [5.2559485],\n",
       "       [5.2559485],\n",
       "       [5.2559485],\n",
       "       [5.2559485],\n",
       "       [5.2559485],\n",
       "       [5.2559485],\n",
       "       [5.2559485],\n",
       "       [5.2559485],\n",
       "       [5.2559485],\n",
       "       [5.2559485],\n",
       "       [5.2559485],\n",
       "       [5.2559485],\n",
       "       [5.2559485],\n",
       "       [5.2559485],\n",
       "       [5.2559485],\n",
       "       [5.2559485],\n",
       "       [5.2559485],\n",
       "       [5.2559485],\n",
       "       [5.2559485],\n",
       "       [5.2559485],\n",
       "       [5.2559485],\n",
       "       [5.2559485],\n",
       "       [5.2559485],\n",
       "       [5.2559485],\n",
       "       [5.2559485],\n",
       "       [5.2559485],\n",
       "       [5.2559485],\n",
       "       [5.2559485],\n",
       "       [5.2559485],\n",
       "       [5.2559485],\n",
       "       [5.2559485],\n",
       "       [5.2559485],\n",
       "       [5.2559485],\n",
       "       [5.2559485],\n",
       "       [5.2559485],\n",
       "       [5.2559485],\n",
       "       [5.2559485],\n",
       "       [5.2559485],\n",
       "       [5.2559485],\n",
       "       [5.2559485],\n",
       "       [5.2559485],\n",
       "       [5.2559485],\n",
       "       [5.2559485],\n",
       "       [5.2559485],\n",
       "       [5.2559485],\n",
       "       [5.2559485],\n",
       "       [5.2559485],\n",
       "       [5.2559485],\n",
       "       [5.2559485],\n",
       "       [5.2559485],\n",
       "       [5.2559485],\n",
       "       [5.2559485],\n",
       "       [5.2559485],\n",
       "       [5.2559485],\n",
       "       [5.2559485],\n",
       "       [5.2559485],\n",
       "       [5.2559485],\n",
       "       [5.2559485],\n",
       "       [5.2559485],\n",
       "       [5.2559485],\n",
       "       [5.2559485],\n",
       "       [5.2559485],\n",
       "       [5.2559485],\n",
       "       [5.2559485],\n",
       "       [5.2559485],\n",
       "       [5.2559485],\n",
       "       [5.2559485],\n",
       "       [5.2559485],\n",
       "       [5.2559485],\n",
       "       [5.2559485],\n",
       "       [5.2559485],\n",
       "       [5.2559485],\n",
       "       [5.2559485],\n",
       "       [5.2559485],\n",
       "       [5.2559485],\n",
       "       [5.2559485],\n",
       "       [5.2559485],\n",
       "       [5.2559485],\n",
       "       [5.2559485],\n",
       "       [5.2559485],\n",
       "       [5.2559485],\n",
       "       [5.2559485],\n",
       "       [5.2559485],\n",
       "       [5.2559485],\n",
       "       [5.2559485],\n",
       "       [5.2559485],\n",
       "       [5.2559485],\n",
       "       [5.2559485],\n",
       "       [5.2559485],\n",
       "       [5.2559485],\n",
       "       [5.2559485],\n",
       "       [5.2559485],\n",
       "       [5.2559485],\n",
       "       [5.2559485],\n",
       "       [5.2559485],\n",
       "       [5.2559485],\n",
       "       [5.2559485],\n",
       "       [5.2559485],\n",
       "       [5.2559485],\n",
       "       [5.2559485],\n",
       "       [5.2559485],\n",
       "       [5.2559485],\n",
       "       [5.2559485],\n",
       "       [5.2559485],\n",
       "       [5.2559485],\n",
       "       [5.2559485],\n",
       "       [5.2559485],\n",
       "       [5.2559485],\n",
       "       [5.2559485],\n",
       "       [5.2559485],\n",
       "       [5.2559485],\n",
       "       [5.2559485],\n",
       "       [5.2559485],\n",
       "       [5.2559485],\n",
       "       [5.2559485],\n",
       "       [5.2559485],\n",
       "       [5.2559485],\n",
       "       [5.2559485],\n",
       "       [5.2559485],\n",
       "       [5.2559485],\n",
       "       [5.2559485],\n",
       "       [5.2559485],\n",
       "       [5.2559485],\n",
       "       [5.2559485],\n",
       "       [5.2559485],\n",
       "       [5.2559485],\n",
       "       [5.2559485],\n",
       "       [5.2559485],\n",
       "       [5.2559485],\n",
       "       [5.2559485],\n",
       "       [5.2559485],\n",
       "       [5.2559485],\n",
       "       [5.2559485],\n",
       "       [5.2559485],\n",
       "       [5.2559485],\n",
       "       [5.2559485],\n",
       "       [5.2559485],\n",
       "       [5.2559485],\n",
       "       [5.2559485],\n",
       "       [5.2559485],\n",
       "       [5.2559485],\n",
       "       [5.2559485],\n",
       "       [5.2559485],\n",
       "       [5.2559485],\n",
       "       [5.2559485],\n",
       "       [5.2559485],\n",
       "       [5.2559485],\n",
       "       [5.2559485],\n",
       "       [5.2559485],\n",
       "       [5.2559485],\n",
       "       [5.2559485],\n",
       "       [5.2559485],\n",
       "       [5.2559485],\n",
       "       [5.2559485],\n",
       "       [5.2559485],\n",
       "       [5.2559485],\n",
       "       [5.2559485],\n",
       "       [5.2559485],\n",
       "       [5.2559485],\n",
       "       [5.2559485],\n",
       "       [5.2559485],\n",
       "       [5.2559485],\n",
       "       [5.2559485],\n",
       "       [5.2559485],\n",
       "       [5.2559485],\n",
       "       [5.2559485],\n",
       "       [5.2559485],\n",
       "       [5.2559485],\n",
       "       [5.2559485],\n",
       "       [5.2559485],\n",
       "       [5.2559485],\n",
       "       [5.2559485],\n",
       "       [5.2559485],\n",
       "       [5.2559485],\n",
       "       [5.2559485],\n",
       "       [5.2559485],\n",
       "       [5.2559485],\n",
       "       [5.2559485],\n",
       "       [5.2559485],\n",
       "       [5.2559485],\n",
       "       [5.2559485],\n",
       "       [5.2559485],\n",
       "       [5.2559485],\n",
       "       [5.2559485],\n",
       "       [5.2559485],\n",
       "       [5.2559485],\n",
       "       [5.2559485],\n",
       "       [5.2559485],\n",
       "       [5.2559485],\n",
       "       [5.2559485],\n",
       "       [5.2559485],\n",
       "       [5.2559485],\n",
       "       [5.2559485],\n",
       "       [5.2559485],\n",
       "       [5.2559485],\n",
       "       [5.2559485],\n",
       "       [5.2559485],\n",
       "       [5.2559485],\n",
       "       [5.2559485],\n",
       "       [5.2559485],\n",
       "       [5.2559485],\n",
       "       [5.2559485],\n",
       "       [5.2559485],\n",
       "       [5.2559485],\n",
       "       [5.2559485],\n",
       "       [5.2559485],\n",
       "       [5.2559485],\n",
       "       [5.2559485],\n",
       "       [5.2559485],\n",
       "       [5.2559485],\n",
       "       [5.2559485],\n",
       "       [5.2559485],\n",
       "       [5.2559485],\n",
       "       [5.2559485],\n",
       "       [5.2559485],\n",
       "       [5.2559485],\n",
       "       [5.2559485],\n",
       "       [5.2559485],\n",
       "       [5.2559485],\n",
       "       [5.2559485],\n",
       "       [5.2559485],\n",
       "       [5.2559485],\n",
       "       [5.2559485],\n",
       "       [5.2559485],\n",
       "       [5.2559485],\n",
       "       [5.2559485],\n",
       "       [5.2559485],\n",
       "       [5.2559485],\n",
       "       [5.2559485],\n",
       "       [5.2559485],\n",
       "       [5.2559485],\n",
       "       [5.2559485],\n",
       "       [5.2559485],\n",
       "       [5.2559485],\n",
       "       [5.2559485],\n",
       "       [5.2559485],\n",
       "       [5.2559485],\n",
       "       [5.2559485],\n",
       "       [5.2559485],\n",
       "       [5.2559485],\n",
       "       [5.2559485],\n",
       "       [5.2559485],\n",
       "       [5.2559485],\n",
       "       [5.2559485],\n",
       "       [5.2559485],\n",
       "       [5.2559485],\n",
       "       [5.2559485],\n",
       "       [5.2559485],\n",
       "       [5.2559485],\n",
       "       [5.2559485],\n",
       "       [5.2559485],\n",
       "       [5.2559485],\n",
       "       [5.2559485],\n",
       "       [5.2559485],\n",
       "       [5.2559485],\n",
       "       [5.2559485],\n",
       "       [5.2559485],\n",
       "       [5.2559485],\n",
       "       [5.2559485],\n",
       "       [5.2559485],\n",
       "       [5.2559485],\n",
       "       [5.2559485],\n",
       "       [5.2559485],\n",
       "       [5.2559485],\n",
       "       [5.2559485],\n",
       "       [5.2559485],\n",
       "       [5.2559485],\n",
       "       [5.2559485],\n",
       "       [5.2559485],\n",
       "       [5.2559485],\n",
       "       [5.2559485],\n",
       "       [5.2559485],\n",
       "       [5.2559485]], dtype=float32)"
      ]
     },
     "execution_count": 45,
     "metadata": {},
     "output_type": "execute_result"
    }
   ],
   "source": [
    "testPrediction"
   ]
  },
  {
   "cell_type": "code",
   "execution_count": 46,
   "metadata": {},
   "outputs": [],
   "source": [
    "predictDF = pd.DataFrame(y_test,columns = [\"Real_Y\"])"
   ]
  },
  {
   "cell_type": "code",
   "execution_count": 47,
   "metadata": {},
   "outputs": [
    {
     "data": {
      "text/html": [
       "<div>\n",
       "<style scoped>\n",
       "    .dataframe tbody tr th:only-of-type {\n",
       "        vertical-align: middle;\n",
       "    }\n",
       "\n",
       "    .dataframe tbody tr th {\n",
       "        vertical-align: top;\n",
       "    }\n",
       "\n",
       "    .dataframe thead th {\n",
       "        text-align: right;\n",
       "    }\n",
       "</style>\n",
       "<table border=\"1\" class=\"dataframe\">\n",
       "  <thead>\n",
       "    <tr style=\"text-align: right;\">\n",
       "      <th></th>\n",
       "      <th>Real_Y</th>\n",
       "    </tr>\n",
       "  </thead>\n",
       "  <tbody>\n",
       "    <tr>\n",
       "      <th>0</th>\n",
       "      <td>1081.652164</td>\n",
       "    </tr>\n",
       "    <tr>\n",
       "      <th>1</th>\n",
       "      <td>622.675990</td>\n",
       "    </tr>\n",
       "    <tr>\n",
       "      <th>2</th>\n",
       "      <td>889.356810</td>\n",
       "    </tr>\n",
       "    <tr>\n",
       "      <th>3</th>\n",
       "      <td>902.826733</td>\n",
       "    </tr>\n",
       "    <tr>\n",
       "      <th>4</th>\n",
       "      <td>897.662404</td>\n",
       "    </tr>\n",
       "    <tr>\n",
       "      <th>...</th>\n",
       "      <td>...</td>\n",
       "    </tr>\n",
       "    <tr>\n",
       "      <th>325</th>\n",
       "      <td>1028.438035</td>\n",
       "    </tr>\n",
       "    <tr>\n",
       "      <th>326</th>\n",
       "      <td>789.934950</td>\n",
       "    </tr>\n",
       "    <tr>\n",
       "      <th>327</th>\n",
       "      <td>758.490486</td>\n",
       "    </tr>\n",
       "    <tr>\n",
       "      <th>328</th>\n",
       "      <td>1172.871659</td>\n",
       "    </tr>\n",
       "    <tr>\n",
       "      <th>329</th>\n",
       "      <td>820.947936</td>\n",
       "    </tr>\n",
       "  </tbody>\n",
       "</table>\n",
       "<p>330 rows × 1 columns</p>\n",
       "</div>"
      ],
      "text/plain": [
       "          Real_Y\n",
       "0    1081.652164\n",
       "1     622.675990\n",
       "2     889.356810\n",
       "3     902.826733\n",
       "4     897.662404\n",
       "..           ...\n",
       "325  1028.438035\n",
       "326   789.934950\n",
       "327   758.490486\n",
       "328  1172.871659\n",
       "329   820.947936\n",
       "\n",
       "[330 rows x 1 columns]"
      ]
     },
     "execution_count": 47,
     "metadata": {},
     "output_type": "execute_result"
    }
   ],
   "source": [
    "predictDF"
   ]
  },
  {
   "cell_type": "code",
   "execution_count": 48,
   "metadata": {},
   "outputs": [],
   "source": [
    "testPrediction = pd.Series(testPrediction.reshape(330,))"
   ]
  },
  {
   "cell_type": "code",
   "execution_count": 49,
   "metadata": {},
   "outputs": [
    {
     "data": {
      "text/plain": [
       "0      5.255949\n",
       "1      5.255949\n",
       "2      5.255949\n",
       "3      5.255949\n",
       "4      5.255949\n",
       "         ...   \n",
       "325    5.255949\n",
       "326    5.255949\n",
       "327    5.255949\n",
       "328    5.255949\n",
       "329    5.255949\n",
       "Length: 330, dtype: float32"
      ]
     },
     "execution_count": 49,
     "metadata": {},
     "output_type": "execute_result"
    }
   ],
   "source": [
    "testPrediction"
   ]
  },
  {
   "cell_type": "markdown",
   "metadata": {},
   "source": [
    "# We concatenate predictDF and testPrediction"
   ]
  },
  {
   "cell_type": "code",
   "execution_count": 50,
   "metadata": {},
   "outputs": [],
   "source": [
    "predictDF = pd.concat([predictDF,testPrediction],axis = 1)"
   ]
  },
  {
   "cell_type": "code",
   "execution_count": 51,
   "metadata": {},
   "outputs": [
    {
     "data": {
      "text/html": [
       "<div>\n",
       "<style scoped>\n",
       "    .dataframe tbody tr th:only-of-type {\n",
       "        vertical-align: middle;\n",
       "    }\n",
       "\n",
       "    .dataframe tbody tr th {\n",
       "        vertical-align: top;\n",
       "    }\n",
       "\n",
       "    .dataframe thead th {\n",
       "        text-align: right;\n",
       "    }\n",
       "</style>\n",
       "<table border=\"1\" class=\"dataframe\">\n",
       "  <thead>\n",
       "    <tr style=\"text-align: right;\">\n",
       "      <th></th>\n",
       "      <th>Real_Y</th>\n",
       "      <th>0</th>\n",
       "    </tr>\n",
       "  </thead>\n",
       "  <tbody>\n",
       "    <tr>\n",
       "      <th>0</th>\n",
       "      <td>1081.652164</td>\n",
       "      <td>5.255949</td>\n",
       "    </tr>\n",
       "    <tr>\n",
       "      <th>1</th>\n",
       "      <td>622.675990</td>\n",
       "      <td>5.255949</td>\n",
       "    </tr>\n",
       "    <tr>\n",
       "      <th>2</th>\n",
       "      <td>889.356810</td>\n",
       "      <td>5.255949</td>\n",
       "    </tr>\n",
       "    <tr>\n",
       "      <th>3</th>\n",
       "      <td>902.826733</td>\n",
       "      <td>5.255949</td>\n",
       "    </tr>\n",
       "    <tr>\n",
       "      <th>4</th>\n",
       "      <td>897.662404</td>\n",
       "      <td>5.255949</td>\n",
       "    </tr>\n",
       "    <tr>\n",
       "      <th>...</th>\n",
       "      <td>...</td>\n",
       "      <td>...</td>\n",
       "    </tr>\n",
       "    <tr>\n",
       "      <th>325</th>\n",
       "      <td>1028.438035</td>\n",
       "      <td>5.255949</td>\n",
       "    </tr>\n",
       "    <tr>\n",
       "      <th>326</th>\n",
       "      <td>789.934950</td>\n",
       "      <td>5.255949</td>\n",
       "    </tr>\n",
       "    <tr>\n",
       "      <th>327</th>\n",
       "      <td>758.490486</td>\n",
       "      <td>5.255949</td>\n",
       "    </tr>\n",
       "    <tr>\n",
       "      <th>328</th>\n",
       "      <td>1172.871659</td>\n",
       "      <td>5.255949</td>\n",
       "    </tr>\n",
       "    <tr>\n",
       "      <th>329</th>\n",
       "      <td>820.947936</td>\n",
       "      <td>5.255949</td>\n",
       "    </tr>\n",
       "  </tbody>\n",
       "</table>\n",
       "<p>330 rows × 2 columns</p>\n",
       "</div>"
      ],
      "text/plain": [
       "          Real_Y         0\n",
       "0    1081.652164  5.255949\n",
       "1     622.675990  5.255949\n",
       "2     889.356810  5.255949\n",
       "3     902.826733  5.255949\n",
       "4     897.662404  5.255949\n",
       "..           ...       ...\n",
       "325  1028.438035  5.255949\n",
       "326   789.934950  5.255949\n",
       "327   758.490486  5.255949\n",
       "328  1172.871659  5.255949\n",
       "329   820.947936  5.255949\n",
       "\n",
       "[330 rows x 2 columns]"
      ]
     },
     "execution_count": 51,
     "metadata": {},
     "output_type": "execute_result"
    }
   ],
   "source": [
    "predictDF"
   ]
  },
  {
   "cell_type": "code",
   "execution_count": 52,
   "metadata": {},
   "outputs": [],
   "source": [
    "predictDF.columns = [\"Real_Y\",\"Predict_Y\"]"
   ]
  },
  {
   "cell_type": "code",
   "execution_count": 53,
   "metadata": {},
   "outputs": [
    {
     "data": {
      "text/html": [
       "<div>\n",
       "<style scoped>\n",
       "    .dataframe tbody tr th:only-of-type {\n",
       "        vertical-align: middle;\n",
       "    }\n",
       "\n",
       "    .dataframe tbody tr th {\n",
       "        vertical-align: top;\n",
       "    }\n",
       "\n",
       "    .dataframe thead th {\n",
       "        text-align: right;\n",
       "    }\n",
       "</style>\n",
       "<table border=\"1\" class=\"dataframe\">\n",
       "  <thead>\n",
       "    <tr style=\"text-align: right;\">\n",
       "      <th></th>\n",
       "      <th>Real_Y</th>\n",
       "      <th>Predict_Y</th>\n",
       "    </tr>\n",
       "  </thead>\n",
       "  <tbody>\n",
       "    <tr>\n",
       "      <th>0</th>\n",
       "      <td>1081.652164</td>\n",
       "      <td>5.255949</td>\n",
       "    </tr>\n",
       "    <tr>\n",
       "      <th>1</th>\n",
       "      <td>622.675990</td>\n",
       "      <td>5.255949</td>\n",
       "    </tr>\n",
       "    <tr>\n",
       "      <th>2</th>\n",
       "      <td>889.356810</td>\n",
       "      <td>5.255949</td>\n",
       "    </tr>\n",
       "    <tr>\n",
       "      <th>3</th>\n",
       "      <td>902.826733</td>\n",
       "      <td>5.255949</td>\n",
       "    </tr>\n",
       "    <tr>\n",
       "      <th>4</th>\n",
       "      <td>897.662404</td>\n",
       "      <td>5.255949</td>\n",
       "    </tr>\n",
       "    <tr>\n",
       "      <th>...</th>\n",
       "      <td>...</td>\n",
       "      <td>...</td>\n",
       "    </tr>\n",
       "    <tr>\n",
       "      <th>325</th>\n",
       "      <td>1028.438035</td>\n",
       "      <td>5.255949</td>\n",
       "    </tr>\n",
       "    <tr>\n",
       "      <th>326</th>\n",
       "      <td>789.934950</td>\n",
       "      <td>5.255949</td>\n",
       "    </tr>\n",
       "    <tr>\n",
       "      <th>327</th>\n",
       "      <td>758.490486</td>\n",
       "      <td>5.255949</td>\n",
       "    </tr>\n",
       "    <tr>\n",
       "      <th>328</th>\n",
       "      <td>1172.871659</td>\n",
       "      <td>5.255949</td>\n",
       "    </tr>\n",
       "    <tr>\n",
       "      <th>329</th>\n",
       "      <td>820.947936</td>\n",
       "      <td>5.255949</td>\n",
       "    </tr>\n",
       "  </tbody>\n",
       "</table>\n",
       "<p>330 rows × 2 columns</p>\n",
       "</div>"
      ],
      "text/plain": [
       "          Real_Y  Predict_Y\n",
       "0    1081.652164   5.255949\n",
       "1     622.675990   5.255949\n",
       "2     889.356810   5.255949\n",
       "3     902.826733   5.255949\n",
       "4     897.662404   5.255949\n",
       "..           ...        ...\n",
       "325  1028.438035   5.255949\n",
       "326   789.934950   5.255949\n",
       "327   758.490486   5.255949\n",
       "328  1172.871659   5.255949\n",
       "329   820.947936   5.255949\n",
       "\n",
       "[330 rows x 2 columns]"
      ]
     },
     "execution_count": 53,
     "metadata": {},
     "output_type": "execute_result"
    }
   ],
   "source": [
    "predictDF"
   ]
  },
  {
   "cell_type": "markdown",
   "metadata": {},
   "source": [
    "# We visualize our predict data frame"
   ]
  },
  {
   "cell_type": "code",
   "execution_count": 54,
   "metadata": {},
   "outputs": [
    {
     "data": {
      "text/plain": [
       "<matplotlib.axes._subplots.AxesSubplot at 0x7efc2434dca0>"
      ]
     },
     "execution_count": 54,
     "metadata": {},
     "output_type": "execute_result"
    },
    {
     "data": {
      "image/png": "[encoded data removed]",
      "text/plain": [
       "<Figure size 432x288 with 1 Axes>"
      ]
     },
     "metadata": {
      "needs_background": "light"
     },
     "output_type": "display_data"
    }
   ],
   "source": [
    "sbn.scatterplot(x = \"Real_Y\",y = \"Predict_Y\",data = predictDF)"
   ]
  },
  {
   "cell_type": "markdown",
   "metadata": {},
   "source": [
    "# We import mean absolute error and mean squared error"
   ]
  },
  {
   "cell_type": "code",
   "execution_count": 56,
   "metadata": {},
   "outputs": [],
   "source": [
    "from sklearn.metrics import mean_absolute_error, mean_squared_error"
   ]
  },
  {
   "cell_type": "code",
   "execution_count": 57,
   "metadata": {},
   "outputs": [
    {
     "data": {
      "text/plain": [
       "858.6397874832335"
      ]
     },
     "execution_count": 57,
     "metadata": {},
     "output_type": "execute_result"
    }
   ],
   "source": [
    "mean_absolute_error(predictDF[\"Real_Y\"],predictDF[\"Predict_Y\"])"
   ]
  },
  {
   "cell_type": "code",
   "execution_count": 58,
   "metadata": {},
   "outputs": [
    {
     "data": {
      "text/plain": [
       "764289.4688776912"
      ]
     },
     "execution_count": 58,
     "metadata": {},
     "output_type": "execute_result"
    }
   ],
   "source": [
    "mean_squared_error(predictDF[\"Real_Y\"],predictDF[\"Predict_Y\"])"
   ]
  },
  {
   "cell_type": "markdown",
   "metadata": {},
   "source": [
    "# Describe function is showing result of count mean standart deviation e.t.c"
   ]
  },
  {
   "cell_type": "code",
   "execution_count": 59,
   "metadata": {},
   "outputs": [
    {
     "data": {
      "text/html": [
       "<div>\n",
       "<style scoped>\n",
       "    .dataframe tbody tr th:only-of-type {\n",
       "        vertical-align: middle;\n",
       "    }\n",
       "\n",
       "    .dataframe tbody tr th {\n",
       "        vertical-align: top;\n",
       "    }\n",
       "\n",
       "    .dataframe thead th {\n",
       "        text-align: right;\n",
       "    }\n",
       "</style>\n",
       "<table border=\"1\" class=\"dataframe\">\n",
       "  <thead>\n",
       "    <tr style=\"text-align: right;\">\n",
       "      <th></th>\n",
       "      <th>Fiyat</th>\n",
       "      <th>BisikletOzellik1</th>\n",
       "      <th>BisikletOzellik2</th>\n",
       "    </tr>\n",
       "  </thead>\n",
       "  <tbody>\n",
       "    <tr>\n",
       "      <th>count</th>\n",
       "      <td>1000.000000</td>\n",
       "      <td>1000.000000</td>\n",
       "      <td>1000.000000</td>\n",
       "    </tr>\n",
       "    <tr>\n",
       "      <th>mean</th>\n",
       "      <td>872.677801</td>\n",
       "      <td>1750.024800</td>\n",
       "      <td>1749.964733</td>\n",
       "    </tr>\n",
       "    <tr>\n",
       "      <th>std</th>\n",
       "      <td>164.124504</td>\n",
       "      <td>1.704531</td>\n",
       "      <td>1.659578</td>\n",
       "    </tr>\n",
       "    <tr>\n",
       "      <th>min</th>\n",
       "      <td>390.856887</td>\n",
       "      <td>1744.852108</td>\n",
       "      <td>1744.742389</td>\n",
       "    </tr>\n",
       "    <tr>\n",
       "      <th>25%</th>\n",
       "      <td>757.795031</td>\n",
       "      <td>1748.831119</td>\n",
       "      <td>1748.803186</td>\n",
       "    </tr>\n",
       "    <tr>\n",
       "      <th>50%</th>\n",
       "      <td>879.168705</td>\n",
       "      <td>1750.017350</td>\n",
       "      <td>1750.003926</td>\n",
       "    </tr>\n",
       "    <tr>\n",
       "      <th>75%</th>\n",
       "      <td>988.612778</td>\n",
       "      <td>1751.115766</td>\n",
       "      <td>1751.129414</td>\n",
       "    </tr>\n",
       "    <tr>\n",
       "      <th>max</th>\n",
       "      <td>1355.213745</td>\n",
       "      <td>1755.613884</td>\n",
       "      <td>1754.666038</td>\n",
       "    </tr>\n",
       "  </tbody>\n",
       "</table>\n",
       "</div>"
      ],
      "text/plain": [
       "             Fiyat  BisikletOzellik1  BisikletOzellik2\n",
       "count  1000.000000       1000.000000       1000.000000\n",
       "mean    872.677801       1750.024800       1749.964733\n",
       "std     164.124504          1.704531          1.659578\n",
       "min     390.856887       1744.852108       1744.742389\n",
       "25%     757.795031       1748.831119       1748.803186\n",
       "50%     879.168705       1750.017350       1750.003926\n",
       "75%     988.612778       1751.115766       1751.129414\n",
       "max    1355.213745       1755.613884       1754.666038"
      ]
     },
     "execution_count": 59,
     "metadata": {},
     "output_type": "execute_result"
    }
   ],
   "source": [
    "dataFrame.describe()"
   ]
  },
  {
   "cell_type": "code",
   "execution_count": 60,
   "metadata": {},
   "outputs": [],
   "source": [
    "newBicycleFeatures = [[1760,1758]]"
   ]
  },
  {
   "cell_type": "code",
   "execution_count": 61,
   "metadata": {},
   "outputs": [],
   "source": [
    "newBicycleFeatures = scaler.transform(newBicycleFeatures)"
   ]
  },
  {
   "cell_type": "code",
   "execution_count": 62,
   "metadata": {},
   "outputs": [
    {
     "data": {
      "text/plain": [
       "array([[1.4133144 , 1.34470668]])"
      ]
     },
     "execution_count": 62,
     "metadata": {},
     "output_type": "execute_result"
    }
   ],
   "source": [
    "newBicycleFeatures"
   ]
  },
  {
   "cell_type": "code",
   "execution_count": 63,
   "metadata": {},
   "outputs": [
    {
     "data": {
      "text/plain": [
       "array([[5.1649065]], dtype=float32)"
      ]
     },
     "execution_count": 63,
     "metadata": {},
     "output_type": "execute_result"
    }
   ],
   "source": [
    "model.predict(newBicycleFeatures)"
   ]
  },
  {
   "cell_type": "markdown",
   "metadata": {},
   "source": [
    "# We save model with that library's function"
   ]
  },
  {
   "cell_type": "code",
   "execution_count": 64,
   "metadata": {},
   "outputs": [],
   "source": [
    "from tensorflow.keras.models import load_model"
   ]
  },
  {
   "cell_type": "code",
   "execution_count": 65,
   "metadata": {},
   "outputs": [],
   "source": [
    "model.save(\"bicycle_models.h5\")"
   ]
  },
  {
   "cell_type": "code",
   "execution_count": 66,
   "metadata": {},
   "outputs": [],
   "source": [
    "lastModel = load_model(\"bicycle_models.h5\")"
   ]
  },
  {
   "cell_type": "code",
   "execution_count": 67,
   "metadata": {},
   "outputs": [
    {
     "data": {
      "text/plain": [
       "array([[5.1649065]], dtype=float32)"
      ]
     },
     "execution_count": 67,
     "metadata": {},
     "output_type": "execute_result"
    }
   ],
   "source": [
    "lastModel.predict(newBicycleFeatures)"
   ]
  },
  {
   "cell_type": "code",
   "execution_count": null,
   "metadata": {},
   "outputs": [],
   "source": []
  }
 ],
 "metadata": {
  "kernelspec": {
   "display_name": "Python 3",
   "language": "python",
   "name": "python3"
  },
  "language_info": {
   "codemirror_mode": {
    "name": "ipython",
    "version": 3
   },
   "file_extension": ".py",
   "mimetype": "text/x-python",
   "name": "python",
   "nbconvert_exporter": "python",
   "pygments_lexer": "ipython3",
   "version": "3.8.5"
  }
 },
 "nbformat": 4,
 "nbformat_minor": 4
}
